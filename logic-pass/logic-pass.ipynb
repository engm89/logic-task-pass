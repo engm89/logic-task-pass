{
 "cells": [
  {
   "cell_type": "code",
   "execution_count": 3,
   "id": "8671c28d",
   "metadata": {},
   "outputs": [],
   "source": [
    "def remove_String (s, old_string):\n",
    "    \n",
    "    new_s = old_string.replace(s, \" \")\n",
    "    return new_s"
   ]
  },
  {
   "cell_type": "code",
   "execution_count": 5,
   "id": "33fd13dd",
   "metadata": {},
   "outputs": [
    {
     "data": {
      "text/plain": [
       "'h llo'"
      ]
     },
     "execution_count": 5,
     "metadata": {},
     "output_type": "execute_result"
    }
   ],
   "source": [
    "remove_String('e', \"hello\")"
   ]
  },
  {
   "cell_type": "code",
   "execution_count": 6,
   "id": "76a3b977",
   "metadata": {},
   "outputs": [],
   "source": [
    "# Python program to display all the prime numbers within an interval\n",
    "\n",
    "def prime_Numbers(start_number, end_number):\n",
    "    for num in range(start_number, end_number):\n",
    "   # all prime numbers are greater than 1\n",
    "       if num > 1:\n",
    "           for i in range(2, num):\n",
    "               if (num % i) == 0:\n",
    "                   break\n",
    "           else:\n",
    "               print(num)\n"
   ]
  },
  {
   "cell_type": "code",
   "execution_count": 8,
   "id": "a506317b",
   "metadata": {},
   "outputs": [
    {
     "name": "stdout",
     "output_type": "stream",
     "text": [
      "2\n",
      "3\n",
      "5\n",
      "7\n",
      "11\n",
      "13\n",
      "17\n",
      "19\n"
     ]
    }
   ],
   "source": [
    "prime_Numbers(1,20)"
   ]
  },
  {
   "cell_type": "code",
   "execution_count": 11,
   "id": "5c01876a",
   "metadata": {},
   "outputs": [],
   "source": [
    "def count_in_string(c, string):\n",
    "    count = string.count(c)\n",
    "    return count"
   ]
  },
  {
   "cell_type": "code",
   "execution_count": 12,
   "id": "47543c8b",
   "metadata": {},
   "outputs": [
    {
     "data": {
      "text/plain": [
       "2"
      ]
     },
     "execution_count": 12,
     "metadata": {},
     "output_type": "execute_result"
    }
   ],
   "source": [
    "count_in_string('l', 'hello')"
   ]
  },
  {
   "cell_type": "code",
   "execution_count": null,
   "id": "34e3671e",
   "metadata": {},
   "outputs": [],
   "source": []
  }
 ],
 "metadata": {
  "kernelspec": {
   "display_name": "Python 3 (ipykernel)",
   "language": "python",
   "name": "python3"
  },
  "language_info": {
   "codemirror_mode": {
    "name": "ipython",
    "version": 3
   },
   "file_extension": ".py",
   "mimetype": "text/x-python",
   "name": "python",
   "nbconvert_exporter": "python",
   "pygments_lexer": "ipython3",
   "version": "3.8.13"
  }
 },
 "nbformat": 4,
 "nbformat_minor": 5
}
